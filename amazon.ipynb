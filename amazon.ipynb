{
 "cells": [
  {
   "cell_type": "code",
   "execution_count": 307,
   "metadata": {},
   "outputs": [
    {
     "name": "stdout",
     "output_type": "stream",
     "text": [
      "enter the product namemobile\n"
     ]
    },
    {
     "data": {
      "text/plain": [
       "'https://www.amazon.in/s?k=mobile&ref=nb_sb_noss_2'"
      ]
     },
     "execution_count": 307,
     "metadata": {},
     "output_type": "execute_result"
    }
   ],
   "source": [
    "from urllib.request import urlopen as urreq\n",
    "from bs4 import BeautifulSoup as soup\n",
    "str1='https://www.amazon.in/s?k='\n",
    "str2='&ref=nb_sb_noss_2'\n",
    "str3=input('enter the product name')\n",
    "str3=str3.replace(' ','+')\n",
    "str4=str1+str3+str2\n",
    "client=urreq(str4)\n",
    "html=client.read()\n",
    "client.close()\n",
    "str4"
   ]
  },
  {
   "cell_type": "code",
   "execution_count": 308,
   "metadata": {},
   "outputs": [],
   "source": [
    "page_soup=soup(html,'html.parser')"
   ]
  },
  {
   "cell_type": "code",
   "execution_count": 309,
   "metadata": {},
   "outputs": [],
   "source": [
    "c=page_soup.findAll('div',{'class':'sg-col-20-of-24 s-result-item sg-col-0-of-12 sg-col-28-of-32 sg-col-16-of-20 sg-col sg-col-32-of-36 sg-col-12-of-16 sg-col-24-of-28'})\n",
    "c3=page_soup.findAll('div',{'class':'sg-col-inner'})\n",
    "n=len(c)"
   ]
  },
  {
   "cell_type": "code",
   "execution_count": 310,
   "metadata": {},
   "outputs": [
    {
     "data": {
      "text/plain": [
       "26"
      ]
     },
     "execution_count": 310,
     "metadata": {},
     "output_type": "execute_result"
    }
   ],
   "source": [
    "filename1='amazon.csv'\n",
    "f1=open(filename1,'w')\n",
    "headers='amazon_brand,amazon_price'\n",
    "f1.write(headers+\"\\n\")"
   ]
  },
  {
   "cell_type": "code",
   "execution_count": 311,
   "metadata": {},
   "outputs": [],
   "source": [
    "for i in range(n):\n",
    "    cont=c[i]\n",
    "    brand=(cont.find('span',{'class':'a-size-medium a-color-base a-text-normal'}))\n",
    "    brand=brand.text.replace(',','')\n",
    "    price=cont.find('span',{'class':'a-price-whole'}).text\n",
    "    price=price.replace(',','')\n",
    "    f1.write(brand+','+price+'\\n')\n",
    "f1.close()"
   ]
  },
  {
   "cell_type": "code",
   "execution_count": 312,
   "metadata": {},
   "outputs": [
    {
     "data": {
      "text/plain": [
       "'https://www.flipkart.com/search?q=mobile&otracker=search&otracker1=search&marketplace=FLIPKART&as-show=on&as=off'"
      ]
     },
     "execution_count": 312,
     "metadata": {},
     "output_type": "execute_result"
    }
   ],
   "source": [
    "my_url1='https://www.flipkart.com/search?q='\n",
    "my_url2='&otracker=search&otracker1=search&marketplace=FLIPKART&as-show=on&as=off'\n",
    "my_url=my_url1+str3+my_url2\n",
    "my_url"
   ]
  },
  {
   "cell_type": "code",
   "execution_count": 313,
   "metadata": {},
   "outputs": [],
   "source": [
    "uClient=urreq(my_url)"
   ]
  },
  {
   "cell_type": "code",
   "execution_count": 314,
   "metadata": {},
   "outputs": [],
   "source": [
    "page_html=uClient.read()"
   ]
  },
  {
   "cell_type": "code",
   "execution_count": 315,
   "metadata": {},
   "outputs": [],
   "source": [
    "uClient.close()"
   ]
  },
  {
   "cell_type": "code",
   "execution_count": 316,
   "metadata": {},
   "outputs": [],
   "source": [
    "page_soup=soup(page_html,'html.parser')"
   ]
  },
  {
   "cell_type": "code",
   "execution_count": 317,
   "metadata": {},
   "outputs": [],
   "source": [
    "containers=page_soup.findAll('div',{'class':'_3O0U0u'})"
   ]
  },
  {
   "cell_type": "code",
   "execution_count": 318,
   "metadata": {},
   "outputs": [
    {
     "data": {
      "text/plain": [
       "24"
      ]
     },
     "execution_count": 318,
     "metadata": {},
     "output_type": "execute_result"
    }
   ],
   "source": [
    "m=len(containers)\n",
    "m"
   ]
  },
  {
   "cell_type": "code",
   "execution_count": 319,
   "metadata": {},
   "outputs": [
    {
     "data": {
      "text/plain": [
       "30"
      ]
     },
     "execution_count": 319,
     "metadata": {},
     "output_type": "execute_result"
    }
   ],
   "source": [
    "filename2='flipkart.csv'\n",
    "f2=open(filename2,'w')\n",
    "headers='flipkart_brand,flipkart_price'\n",
    "f2.write(headers+'\\n')"
   ]
  },
  {
   "cell_type": "code",
   "execution_count": 320,
   "metadata": {},
   "outputs": [],
   "source": [
    "for i in  range(m):\n",
    "    c=containers[i]\n",
    "    brand=(c.find('div',{'class':'_3wU53n'})).text.replace(',','')\n",
    "    price_class=c.find('div',{'class':'_1vC4OE _2rQ-NK'})\n",
    "    price=price_class.getText().replace(',','')\n",
    "    price=price.replace('₹','')\n",
    "    f2.write(brand+','+price+'\\n')\n",
    "f2.close()"
   ]
  },
  {
   "cell_type": "code",
   "execution_count": 321,
   "metadata": {},
   "outputs": [],
   "source": [
    "import pandas as pd"
   ]
  },
  {
   "cell_type": "code",
   "execution_count": 322,
   "metadata": {},
   "outputs": [],
   "source": [
    "am=pd.read_csv('amazon.csv')\n",
    "flip=pd.read_csv('flipkart.csv')"
   ]
  },
  {
   "cell_type": "code",
   "execution_count": 323,
   "metadata": {
    "scrolled": true
   },
   "outputs": [],
   "source": [
    "final=pd.concat([am,flip],axis='columns')"
   ]
  },
  {
   "cell_type": "code",
   "execution_count": 324,
   "metadata": {},
   "outputs": [],
   "source": [
    "output=final.to_csv(r'output.csv')"
   ]
  },
  {
   "cell_type": "code",
   "execution_count": null,
   "metadata": {},
   "outputs": [],
   "source": []
  }
 ],
 "metadata": {
  "kernelspec": {
   "display_name": "Python 3",
   "language": "python",
   "name": "python3"
  },
  "language_info": {
   "codemirror_mode": {
    "name": "ipython",
    "version": 3
   },
   "file_extension": ".py",
   "mimetype": "text/x-python",
   "name": "python",
   "nbconvert_exporter": "python",
   "pygments_lexer": "ipython3",
   "version": "3.7.3"
  }
 },
 "nbformat": 4,
 "nbformat_minor": 2
}
